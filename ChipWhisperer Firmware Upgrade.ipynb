{
 "cells": [
  {
   "attachments": {},
   "cell_type": "markdown",
   "metadata": {},
   "source": [
    "## ChipWhispere Capture (Lite, Nano, Pro)"
   ]
  },
  {
   "cell_type": "code",
   "execution_count": 1,
   "metadata": {},
   "outputs": [],
   "source": [
    "import chipwhisperer as cw\n",
    "scope = cw.scope()\n"
   ]
  },
  {
   "cell_type": "code",
   "execution_count": 3,
   "metadata": {},
   "outputs": [
    {
     "name": "stdout",
     "output_type": "stream",
     "text": [
      "Entering bootloader mode...\n",
      "Detected com port /dev/ttyACM0\n",
      "Loading cwlite firmware...\n",
      "Opened!\n",
      "Connecting...\n",
      "Connected!\n",
      "Erasing...\n",
      "Erased!\n",
      "Programming file SAM3U_CW1173.bin...\n",
      "Programmed!\n",
      "Verifying...\n",
      "Verify OK!\n",
      "Resetting...\n",
      "Upgrade successful\n"
     ]
    }
   ],
   "source": [
    "scope.upgrade_firmware()\n",
    "# scope.latest_fw_str"
   ]
  },
  {
   "cell_type": "code",
   "execution_count": null,
   "metadata": {},
   "outputs": [],
   "source": [
    "try:\n",
    "    import chipwhisperer as cw\n",
    "    scope = cw.scope()\n",
    "    if scope.latest_fw_str > scope.fw_version_str:\n",
    "        scope.upgrade_firmware()\n",
    "except:\n",
    "    pass"
   ]
  },
  {
   "attachments": {},
   "cell_type": "markdown",
   "metadata": {},
   "source": [
    "## CW305"
   ]
  },
  {
   "cell_type": "code",
   "execution_count": null,
   "metadata": {},
   "outputs": [],
   "source": [
    "#try:\n",
    "#    import chipwhisperer as cw\n",
    "#    target = cw.target(None, cw.targets.CW305)\n",
    "#    target.upgrade_firmware()\n",
    "#except:\n",
    "#    pass"
   ]
  }
 ],
 "metadata": {
  "kernelspec": {
   "display_name": "Python 3 (ipykernel)",
   "language": "python",
   "name": "python3"
  },
  "language_info": {
   "codemirror_mode": {
    "name": "ipython",
    "version": 3
   },
   "file_extension": ".py",
   "mimetype": "text/x-python",
   "name": "python",
   "nbconvert_exporter": "python",
   "pygments_lexer": "ipython3",
   "version": "3.10.11"
  }
 },
 "nbformat": 4,
 "nbformat_minor": 4
}
