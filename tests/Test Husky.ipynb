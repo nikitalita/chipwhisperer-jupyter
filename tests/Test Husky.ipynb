{
 "cells": [
  {
   "cell_type": "code",
   "execution_count": null,
   "id": "0",
   "metadata": {},
   "outputs": [],
   "source": [
    "LONG_TEST=\"No\""
   ]
  },
  {
   "cell_type": "code",
   "execution_count": null,
   "id": "1",
   "metadata": {},
   "outputs": [],
   "source": [
    "import os\n",
    "import chipwhisperer as cw\n",
    "import time\n",
    "import pytest\n",
    "test_args = [\"pytest\", \"-v\", \"-rs\", \"../../tests/test_husky.py\", \"-k\", \"not trace\"]\n",
    "if LONG_TEST != \"No\":\n",
    "    test_args.append(\"--fulltest\")\n",
    "scope = cw.scope()\n",
    "env = dict(os.environ)\n",
    "env[\"HUSKY_HW_LOC\"] = str(scope._getNAEUSB().hw_location())\n",
    "env[\"HUSKY_TARGET_PLATFORM\"] = \"sam4s\"\n",
    "#target = cw.target(scope)\n",
    "scope.default_setup()\n",
    "time.sleep(0.25)\n",
    "#cw.naeusb_logger.setLevel(cw.logging.DEBUG)\n",
    "cw.program_target(scope, cw.programmers.SAM4SProgrammer, \"../../hardware/victims/firmware/simpleserial-trace/simpleserial-trace-CW308_SAM4S.hex\")\n",
    "scope.dis()"
   ]
  },
  {
   "cell_type": "code",
   "execution_count": null,
   "id": "2",
   "metadata": {},
   "outputs": [],
   "source": [
    "import subprocess\n",
    "result = subprocess.run(test_args, capture_output=True, env=env)"
   ]
  },
  {
   "cell_type": "code",
   "execution_count": null,
   "id": "3",
   "metadata": {},
   "outputs": [],
   "source": [
    "print(result.stdout.decode().replace(r\"\\n\", \"\\n\"))"
   ]
  },
  {
   "cell_type": "code",
   "execution_count": null,
   "id": "4",
   "metadata": {},
   "outputs": [],
   "source": [
    "assert result.returncode == 0"
   ]
  },
  {
   "cell_type": "code",
   "execution_count": null,
   "id": "5",
   "metadata": {},
   "outputs": [],
   "source": []
  }
 ],
 "metadata": {
  "kernelspec": {
   "display_name": "Python 3 (ipykernel)",
   "language": "python",
   "name": "python3"
  },
  "language_info": {
   "codemirror_mode": {
    "name": "ipython",
    "version": 3
   },
   "file_extension": ".py",
   "mimetype": "text/x-python",
   "name": "python",
   "nbconvert_exporter": "python",
   "pygments_lexer": "ipython3",
   "version": "3.10.4"
  }
 },
 "nbformat": 4,
 "nbformat_minor": 5
}
