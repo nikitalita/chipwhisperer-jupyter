{
 "cells": [
  {
   "cell_type": "code",
   "execution_count": 8,
   "metadata": {},
   "outputs": [],
   "source": [
    "SCOPETYPE = 'OPENADC'\n",
    "PLATFORM = 'CWLITEARM'\n",
    "SS_VER = 'SS_VER_2_1'"
   ]
  },
  {
   "cell_type": "code",
   "execution_count": 9,
   "metadata": {},
   "outputs": [
    {
     "name": "stdout",
     "output_type": "stream",
     "text": [
      "INFO: Found ChipWhisperer😍\n"
     ]
    }
   ],
   "source": [
    "import chipwhisperer as cw\n",
    "\n",
    "try:\n",
    "    if not scope.connectStatus:\n",
    "        scope.con()\n",
    "except NameError:\n",
    "    scope = cw.scope()\n",
    "\n",
    "try:\n",
    "    if SS_VER == \"SS_VER_2_1\":\n",
    "        target_type = cw.targets.SimpleSerial2\n",
    "    elif SS_VER == \"SS_VER_2_0\":\n",
    "        raise OSError(\"SS_VER_2_0 is deprecated. Use SS_VER_2_1\")\n",
    "    else:\n",
    "        target_type = cw.targets.SimpleSerial\n",
    "except:\n",
    "    SS_VER=\"SS_VER_1_1\"\n",
    "    target_type = cw.targets.SimpleSerial\n",
    "\n",
    "try:\n",
    "    target:cw.targets.SimpleSerial2 = cw.target(scope, target_type)\n",
    "except:\n",
    "    print(\"INFO: Caught exception on reconnecting to target - attempting to reconnect to scope first.\")\n",
    "    print(\"INFO: This is a work-around when USB has died without Python knowing. Ignore errors above this line.\")\n",
    "    scope = cw.scope()\n",
    "    target = cw.target(scope, target_type)\n",
    "\n",
    "\n",
    "print(\"INFO: Found ChipWhisperer😍\")"
   ]
  },
  {
   "cell_type": "code",
   "execution_count": 10,
   "metadata": {},
   "outputs": [],
   "source": [
    "if \"STM\" in PLATFORM or PLATFORM == \"CWLITEARM\" or PLATFORM == \"CWNANO\":\n",
    "    prog = cw.programmers.STM32FProgrammer\n",
    "elif PLATFORM == \"CW303\" or PLATFORM == \"CWLITEXMEGA\":\n",
    "    prog = cw.programmers.XMEGAProgrammer\n",
    "elif \"neorv32\" in PLATFORM.lower():\n",
    "    prog = cw.programmers.NEORV32Programmer\n",
    "elif PLATFORM == \"CW308_SAM4S\":\n",
    "    prog = cw.programmers.SAM4SProgrammer\n",
    "else:\n",
    "    prog = None"
   ]
  },
  {
   "cell_type": "code",
   "execution_count": 50,
   "metadata": {},
   "outputs": [
    {
     "name": "stdout",
     "output_type": "stream",
     "text": [
      "scope.clock.adc_freq                     changed from 13569877                  to 25543121                 \n",
      "scope.clock.adc_rate                     changed from 13569877.0                to 25543121.0               \n",
      "scope.clock.freq_ctr                     changed from 0                         to 2470172                  \n"
     ]
    }
   ],
   "source": [
    "import time\n",
    "time.sleep(0.05)\n",
    "scope.default_setup()\n",
    "\n",
    "def reset_target(scope):\n",
    "    if PLATFORM == \"CW303\" or PLATFORM == \"CWLITEXMEGA\":\n",
    "        scope.io.pdic = 'low'\n",
    "        time.sleep(0.1)\n",
    "        scope.io.pdic = 'high_z' #XMEGA doesn't like pdic driven high\n",
    "        time.sleep(0.1) #xmega needs more startup time\n",
    "    elif \"neorv32\" in PLATFORM.lower():\n",
    "        raise IOError(\"Default iCE40 neorv32 build does not have external reset - reprogram device to reset\")\n",
    "    elif PLATFORM == \"CW308_SAM4S\":\n",
    "        scope.io.nrst = 'low'\n",
    "        time.sleep(0.25)\n",
    "        scope.io.nrst = 'high_z'\n",
    "        time.sleep(0.25)\n",
    "    elif PLATFORM == \"CWLITEARM\":  \n",
    "        scope.io.nrst = 'low'\n",
    "        time.sleep(0.25)\n",
    "        scope.io.nrst = 'high_z'\n",
    "        time.sleep(0.25)\n",
    "    else:  \n",
    "        scope.io.nrst = 'low'\n",
    "        time.sleep(0.05)\n",
    "        scope.io.nrst = 'high_z'\n",
    "        time.sleep(0.05)\n",
    "\n",
    "def reboot_flush(scope):\n",
    "    target.flush()\n",
    "    time.sleep(0.05)\n",
    "    reset_target(scope)\n"
   ]
  },
  {
   "cell_type": "code",
   "execution_count": 12,
   "metadata": {},
   "outputs": [],
   "source": [
    "\n",
    "def reset_target_speed():\n",
    "    if scope._is_husky is False:\n",
    "        if PLATFORM == \"CWLITEXMEGA\" or PLATFORM == \"CW303\":\n",
    "            scope.clock.clkgen_freq = 32E6\n",
    "            if SS_VER=='SS_VER_2_1':\n",
    "                target.baud = 230400*32/7.37\n",
    "            else:\n",
    "                target.baud = 38400*32/7.37\n",
    "        elif (PLATFORM == \"CWLITEARM\") or (\"F3\" in PLATFORM):\n",
    "            scope.clock.clkgen_freq = 24E6\n",
    "            if SS_VER=='SS_VER_2_1':\n",
    "                target.baud = 230400*24/7.37\n",
    "            else:\n",
    "                target.baud = 38400*24/7.37\n",
    "            target.reset_comms()\n",
    "            time.sleep(0.1)"
   ]
  },
  {
   "cell_type": "code",
   "execution_count": 13,
   "metadata": {},
   "outputs": [
    {
     "name": "stdout",
     "output_type": "stream",
     "text": [
      "SS_VER set to SS_VER_2_1\n",
      "SS_VER set to SS_VER_2_1\n",
      "SS_VER set to SS_VER_2_1\n",
      "SS_VER set to SS_VER_2_1\n",
      "make[1]: '.dep' is up to date.\n",
      "SS_VER set to SS_VER_2_1\n",
      "SS_VER set to SS_VER_2_1\n",
      "arm-none-eabi-gcc (15:8-2019-q3-1+b1) 8.3.1 20190703 (release) [gcc-8-branch revision 273027]\n",
      "Copyright (C) 2018 Free Software Foundation, Inc.\n",
      "This is free software; see the source for copying conditions.  There is NO\n",
      "warranty; not even for MERCHANTABILITY or FITNESS FOR A PARTICULAR PURPOSE.\n",
      "\n",
      ".\n",
      "Welcome to another exciting ChipWhisperer target build!!\n",
      ".\n",
      "Assembling: .././hal/stm32f3/stm32f3_startup.S\n",
      "arm-none-eabi-gcc -c -mcpu=cortex-m4 -I. -x assembler-with-cpp -mthumb -mfloat-abi=soft -fmessage-length=0 -ffunction-sections -DF_CPU=7372800 -Wa,-gstabs,-adhlns=objdir-CWLITEARM/stm32f3_startup.lst -I.././simpleserial/ -I.././simpleserial/ -I.././hal -I.././hal/stm32f3 -I.././hal/stm32f3/CMSIS -I.././hal/stm32f3/CMSIS/core -I.././hal/stm32f3/CMSIS/device -I.././hal/stm32f4/Legacy -I.././crypto/ .././hal/stm32f3/stm32f3_startup.S -o objdir-CWLITEARM/stm32f3_startup.o\n",
      ".\n",
      "Compiling:\n",
      "-en     .././hal/stm32f3/stm32f3_sysmem.c ...\n",
      "-e Done!\n",
      ".\n",
      "Compiling:\n",
      "-en     simpleserial-glitch.c ...\n",
      "-e Done!\n",
      ".\n",
      "Compiling:\n",
      "-en     .././hal/stm32f3/stm32f3_hal.c ...\n",
      "-e Done!\n"
     ]
    },
    {
     "name": "stderr",
     "output_type": "stream",
     "text": [
      "In file included from .././hal/stm32f3/CMSIS/device/stm32f3xx.h:156,\n",
      "                 from .././hal/stm32f3/stm32f3_hal_lowlevel.h:109,\n",
      "                 from .././hal/stm32f3/stm32f3_hal.c:3:\n",
      ".././hal/stm32f3/CMSIS/device/stm32f303xe.h:54:9: note: #pragma message: USING STM32F303xE !!!!!!!!!!!!!!!!!\n",
      " #pragma message \"USING STM32F303xE !!!!!!!!!!!!!!!!!\"\n",
      "         ^~~~~~~\n"
     ]
    },
    {
     "name": "stdout",
     "output_type": "stream",
     "text": [
      ".\n",
      "Compiling:\n",
      "-en     .././simpleserial/simpleserial.c ...\n",
      "-e Done!\n",
      ".\n",
      "Compiling:\n",
      "-en     .././hal/stm32f3/stm32f3_hal_lowlevel.c ...\n",
      "-e Done!\n"
     ]
    },
    {
     "name": "stderr",
     "output_type": "stream",
     "text": [
      "In file included from .././hal/stm32f3/CMSIS/device/stm32f3xx.h:156,\n",
      "                 from .././hal/stm32f3/stm32f3_hal_lowlevel.h:109,\n",
      "                 from .././hal/stm32f3/stm32f3_hal_lowlevel.c:39:\n",
      ".././hal/stm32f3/CMSIS/device/stm32f303xe.h:54:9: note: #pragma message: USING STM32F303xE !!!!!!!!!!!!!!!!!\n",
      " #pragma message \"USING STM32F303xE !!!!!!!!!!!!!!!!!\"\n",
      "         ^~~~~~~\n"
     ]
    },
    {
     "name": "stdout",
     "output_type": "stream",
     "text": [
      ".\n",
      "LINKING:\n",
      "-en     simpleserial-glitch-CWLITEARM.elf ...\n",
      "-e Done!\n",
      ".\n",
      "Creating load file for Flash: simpleserial-glitch-CWLITEARM.hex\n",
      "arm-none-eabi-objcopy -O ihex -R .eeprom -R .fuse -R .lock -R .signature simpleserial-glitch-CWLITEARM.elf simpleserial-glitch-CWLITEARM.hex\n",
      ".\n",
      "Creating load file for Flash: simpleserial-glitch-CWLITEARM.bin\n",
      "arm-none-eabi-objcopy -O binary -R .eeprom -R .fuse -R .lock -R .signature simpleserial-glitch-CWLITEARM.elf simpleserial-glitch-CWLITEARM.bin\n",
      ".\n",
      "Creating load file for EEPROM: simpleserial-glitch-CWLITEARM.eep\n",
      "arm-none-eabi-objcopy -j .eeprom --set-section-flags=.eeprom=\"alloc,load\" \\\n",
      "--change-section-lma .eeprom=0 --no-change-warnings -O ihex simpleserial-glitch-CWLITEARM.elf simpleserial-glitch-CWLITEARM.eep || exit 0\n",
      ".\n",
      "Creating Symbol Table: simpleserial-glitch-CWLITEARM.sym\n",
      "arm-none-eabi-nm -n simpleserial-glitch-CWLITEARM.elf > simpleserial-glitch-CWLITEARM.sym\n",
      ".\n",
      "Creating Extended Listing: simpleserial-glitch-CWLITEARM.lss\n",
      "arm-none-eabi-objdump -h -S -z simpleserial-glitch-CWLITEARM.elf > simpleserial-glitch-CWLITEARM.lss\n",
      "SS_VER set to SS_VER_2_1\n",
      "SS_VER set to SS_VER_2_1\n",
      "Size after:\n",
      "   text\t   data\t    bss\t    dec\t    hex\tfilename\n",
      "   5664\t      8\t   1368\t   7040\t   1b80\tsimpleserial-glitch-CWLITEARM.elf\n",
      "+--------------------------------------------------------\n",
      "+ Default target does full rebuild each time.\n",
      "+ Specify buildtarget == allquick == to avoid full rebuild\n",
      "+--------------------------------------------------------\n",
      "+--------------------------------------------------------\n",
      "+ Built for platform CW-Lite Arm \\(STM32F3\\) with:\n",
      "+ CRYPTO_TARGET = NONE\n",
      "+ CRYPTO_OPTIONS = \n",
      "+--------------------------------------------------------\n"
     ]
    }
   ],
   "source": [
    "%%bash -s \"$PLATFORM\" \"$SS_VER\"\n",
    "cd ../../hardware/victims/firmware/simpleserial-glitch\n",
    "make PLATFORM=$1 CRYPTO_TARGET=NONE SS_VER=$2 -j"
   ]
  },
  {
   "cell_type": "code",
   "execution_count": 14,
   "metadata": {},
   "outputs": [
    {
     "name": "stdout",
     "output_type": "stream",
     "text": [
      "Detected unknown STM32F ID: 0x446\n",
      "Extended erase (0x44), this can take ten seconds or more\n",
      "Attempting to program 5671 bytes at 0x8000000\n",
      "STM32F Programming flash...\n",
      "STM32F Reading flash...\n",
      "Verified flash OK, 5671 bytes\n"
     ]
    }
   ],
   "source": [
    "fw_path = \"../../hardware/victims/firmware/simpleserial-glitch/simpleserial-glitch-{}.hex\".format(PLATFORM)\n",
    "cw.program_target(scope, prog, fw_path)\n",
    "if SS_VER==\"SS_VER_2_1\":\n",
    "    target.reset_comms()"
   ]
  },
  {
   "cell_type": "code",
   "execution_count": 15,
   "metadata": {},
   "outputs": [
    {
     "name": "stdout",
     "output_type": "stream",
     "text": [
      "230400\n",
      "230400\n"
     ]
    }
   ],
   "source": [
    "print(target.baud)\n",
    "print(target.ser._baud)"
   ]
  },
  {
   "cell_type": "code",
   "execution_count": 15,
   "metadata": {},
   "outputs": [
    {
     "name": "stdout",
     "output_type": "stream",
     "text": [
      "72 52 45 53 45 54 "
     ]
    }
   ],
   "source": [
    "thing = bytes(\"rRESET\", \"latin-1\")\n",
    "\n",
    "for i in range(0, len(thing)):\n",
    "\t\tprint(\"%02x \" % thing[i], end=\"\")"
   ]
  },
  {
   "cell_type": "code",
   "execution_count": 60,
   "metadata": {},
   "outputs": [
    {
     "name": "stdout",
     "output_type": "stream",
     "text": [
      "5\n",
      "[0, 116, 0, 0, 117, 0]\n",
      "0x85 0xe5 0x81 0x81 0xb1 0x80 \n",
      "[5, 'e', 1, 1, 70, 0]\n",
      "[5, 'e', 1, 1, 49, 0]\n",
      "['r', 'r', 'e', 's', 'e', 't', '@', '@', '@', 'J']\n"
     ]
    }
   ],
   "source": [
    "FRAME_BYTE = 0x00\n",
    "MAX_SS_LEN = 256\n",
    "def unstuff_data(buf, len):\n",
    "\tnext = buf[0]\n",
    "\tbuf[0] = 0x00\n",
    "\t# //len -= 1;\n",
    "\ttmp = next\n",
    "\twhile ((next < len) and tmp != 0):\n",
    "\t\ttmp = buf[next]\n",
    "\t\tbuf[next] = FRAME_BYTE\n",
    "\t\tnext += tmp\n",
    "\treturn next, buf\n",
    "\n",
    "\n",
    "\t# uint8_t i = 1;\n",
    "\t# uint8_t last = 0;\n",
    "\t# for (; i < len; i++) {\n",
    "\t# \tif (buf[i] == FRAME_BYTE) {\n",
    "\t# \t\tbuf[last] = i - last;\n",
    "\t# \t\tlast = i;\n",
    "\t# \t}\n",
    "\t# }\n",
    "\t# return 0x00;\n",
    "def stuff_data(buf, len):\n",
    "\tl = len\n",
    "\tptr = 0\n",
    "\tlast = 0\n",
    "\tfor i in range(1, l):\n",
    "\t\t\tif (buf[i] == FRAME_BYTE):\n",
    "\t\t\t\t\tbuf[last] = i - last\n",
    "\t\t\t\t\tlast = i\n",
    "\t\t\t\t\t# target_logger.debug(\"Stuffing byte {}\".format(i))\n",
    "\treturn buf\n",
    "\n",
    "def _calc_crc(buf):\n",
    "\t\t\"\"\"Calculate CRC (0xA6) for buf\n",
    "\t\t\"\"\"\n",
    "\t\tcrc = 0x00\n",
    "\t\ttry:\n",
    "\t\t\t\tfor b in buf:\n",
    "\t\t\t\t\t\tcrc ^= ord(b) if type(b) == str else b\n",
    "\t\t\t\t\t\tfor _ in range(8):\n",
    "\t\t\t\t\t\t\t\tif crc & 0x80:\n",
    "\t\t\t\t\t\t\t\t\t\tcrc = (crc << 1) ^ 0x4D\n",
    "\t\t\t\t\t\t\t\t\t\tcrc &= 0xFF\n",
    "\t\t\t\t\t\t\t\telse:\n",
    "\t\t\t\t\t\t\t\t\t\tcrc <<= 1\n",
    "\t\t\t\t\t\t\t\t\t\tcrc &= 0xFF\n",
    "\t\texcept:\n",
    "\t\t\t\ttarget_logger.error(\"crc error: {}. Try rebuilding firmware if you only get this error.\".format(buf))\n",
    "\t\treturn crc\n",
    "\n",
    "def format_cmd(c, size, output) -> list[int]:\n",
    "\tdata_buf = [0x00 for i in range(MAX_SS_LEN)]\n",
    "\tdata_buf[0] = 0x00\n",
    "\tdata_buf[1] = c\n",
    "\tdata_buf[2] = size\n",
    "\ti = 0\n",
    "\tfor i in range(0, size):\n",
    "\t\tdata_buf[i + 3] = output[i]\n",
    "\ti = size\n",
    "\tdata_buf[i + 3] = _calc_crc(data_buf[1:])\n",
    "\tdata_buf[i + 4] = 0x00\n",
    "\tstuff_data(data_buf, i + 5)\n",
    "\treturn data_buf[0:i+5]\n",
    " \n",
    "\n",
    "def unfuck_read(buf, to_char = False):\n",
    "\tfor i in range(len(buf)):\n",
    "\t\tb = buf[i] if type(buf[i]) == int else ord(buf[i])\n",
    "\t\t\n",
    "\t\tif (i == 1 or to_char):\n",
    "\t\t\tbuf[i] = b - 0x40\n",
    "\t\t\tbuf[i] = chr(buf[i])\n",
    "\t\telse:\n",
    "\t\t\tbuf[i] = b & 0x7F\n",
    "\treturn buf\n",
    "\n",
    "next, buf = unstuff_data([0x02,0x74,0x01,0x02,0x75,0x00], 4)\n",
    "\n",
    "print(next)\n",
    "print(buf)\n",
    "\n",
    "error_buf = format_cmd('e',0x01,[1])\n",
    "\n",
    "for i in range(len(error_buf)):\n",
    "\t\tb = error_buf[i] if type(error_buf[i]) == int else ord(error_buf[i])\n",
    "\t\tprint(hex(b | 0x80), end=' ')\n",
    "print()\n",
    "print(unfuck_read([0x85, 0xA5, 0x81, 0x81, 0xC6, 0x80]))\n",
    "print(error_buf)\n",
    "\n",
    "print(unfuck_read([0xB2, 0xB2, 0xA5, 0xB3, 0xA5, 0xB4, 0x80, 0x80, 0x80, 0x8A], True))"
   ]
  },
  {
   "cell_type": "code",
   "execution_count": 59,
   "metadata": {},
   "outputs": [
    {
     "name": "stdout",
     "output_type": "stream",
     "text": [
      "\u0000\n",
      "00 "
     ]
    }
   ],
   "source": [
    "reboot_flush(scope)\n",
    "val = target.read(11, 600)\n",
    "print(val)\n",
    "for x in bytes(val, \"latin-1\"):\n",
    "    print(\"%02x \" % x , end=\"\")\n"
   ]
  },
  {
   "cell_type": "code",
   "execution_count": 17,
   "metadata": {},
   "outputs": [
    {
     "name": "stdout",
     "output_type": "stream",
     "text": [
      "85 a5 81 81 c6 80 {'valid': False, 'payload': None, 'full_response': '\\x85¥\\x81\\x81Æ\\x80', 'rv': None}\n"
     ]
    }
   ],
   "source": [
    "\n",
    "target.simpleserial_write(\"g\", bytearray([]))\n",
    "val = target.simpleserial_read_witherrors('r', 8, 5000)#For loop check\n",
    "valid = val['valid']\n",
    "if valid:\n",
    "    response = val['payload']\n",
    "    raw_serial = val['full_response']\n",
    "    error_code = val['rv']\n",
    "\n",
    "\n",
    "for x in bytes(val['full_response'], \"latin-1\"):\n",
    "    print(\"%02x \" % x , end=\"\")\n",
    "# print(bytes(val['full_response'], \"latin-1\"))\n",
    "print(val)\n"
   ]
  },
  {
   "cell_type": "code",
   "execution_count": 61,
   "metadata": {},
   "outputs": [],
   "source": [
    "if scope._is_husky:\n",
    "    scope.glitch.enabled = True\n",
    "    scope.glitch.clk_src = \"pll\"\n",
    "    scope.io.glitch_hp = True\n",
    "    scope.io.glitch_lp = False\n",
    "else:\n",
    "    scope.glitch.clk_src = \"clkgen\" # set glitch input clock\n",
    "scope.glitch.output = \"glitch_only\" # glitch_out = clk ^ glitch\n",
    "scope.glitch.trigger_src = \"ext_single\" # glitch only after scope.arm() called\n",
    "if PLATFORM == \"CWLITEXMEGA\":\n",
    "    scope.io.glitch_lp = True\n",
    "    scope.io.glitch_hp = True\n",
    "elif PLATFORM == \"CWLITEARM\":\n",
    "    scope.io.glitch_lp = True\n",
    "    scope.io.glitch_hp = True\n",
    "elif PLATFORM == \"CW308_STM32F3\":\n",
    "    scope.io.glitch_hp = True\n",
    "    scope.io.glitch_lp = True"
   ]
  },
  {
   "cell_type": "code",
   "execution_count": null,
   "metadata": {},
   "outputs": [],
   "source": []
  }
 ],
 "metadata": {
  "kernelspec": {
   "display_name": "Python 3 (ipykernel)",
   "language": "python",
   "name": "python3"
  },
  "language_info": {
   "codemirror_mode": {
    "name": "ipython",
    "version": 3
   },
   "file_extension": ".py",
   "mimetype": "text/x-python",
   "name": "python",
   "nbconvert_exporter": "python",
   "pygments_lexer": "ipython3",
   "version": "3.10.11"
  }
 },
 "nbformat": 4,
 "nbformat_minor": 4
}
