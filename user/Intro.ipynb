{
 "cells": [
  {
   "cell_type": "markdown",
   "id": "0",
   "metadata": {},
   "source": [
    "## Welcome\n",
    "\n",
    "This folder is meant to house any files you want to change/update.\n",
    "\n",
    "This folder is ignored by git, so you can make any changes you want without worrying about colliding with updates when `git pull`ing\n",
    "\n",
    "**tip:** If you want to copy course files to this folder, copy the whole course (e.g. sca101) into this folder so that the relative paths line up. It should look like `user/sca101/Lab 2_1B - Power Analysis for Password Bypass (MAIN).ipynb`."
   ]
  }
 ],
 "metadata": {
  "kernelspec": {
   "display_name": "Python 3 (ipykernel)",
   "language": "python",
   "name": "python3"
  },
  "language_info": {
   "codemirror_mode": {
    "name": "ipython",
    "version": 3
   },
   "file_extension": ".py",
   "mimetype": "text/x-python",
   "name": "python",
   "nbconvert_exporter": "python",
   "pygments_lexer": "ipython3",
   "version": "3.10.5"
  }
 },
 "nbformat": 4,
 "nbformat_minor": 5
}
